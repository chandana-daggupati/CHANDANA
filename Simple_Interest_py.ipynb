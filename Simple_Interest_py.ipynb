{
  "nbformat": 4,
  "nbformat_minor": 0,
  "metadata": {
    "colab": {
      "provenance": [],
      "collapsed_sections": [],
      "authorship_tag": "ABX9TyMEM4gG0RzaKPHIpQYqQQs9",
      "include_colab_link": true
    },
    "kernelspec": {
      "name": "python3",
      "display_name": "Python 3"
    },
    "language_info": {
      "name": "python"
    }
  },
  "cells": [
    {
      "cell_type": "markdown",
      "metadata": {
        "id": "view-in-github",
        "colab_type": "text"
      },
      "source": [
        "<a href=\"https://colab.research.google.com/github/chandana-daggupati/CHANDANA/blob/main/Simple_Interest_py.ipynb\" target=\"_parent\"><img src=\"https://colab.research.google.com/assets/colab-badge.svg\" alt=\"Open In Colab\"/></a>"
      ]
    },
    {
      "cell_type": "code",
      "execution_count": 3,
      "metadata": {
        "id": "4MIjg3CyfGbH"
      },
      "outputs": [],
      "source": [
        "def simple_interest(p,t,r):\n",
        "  print('The principal is',p)\n",
        "  print('The time period is',t)\n",
        "  print('The rate of interest is',r)\n",
        "\n",
        "  si = (p* t * r)/100\n",
        "\n",
        "  print('The Simple Interest is', si)\n",
        "  return si"
      ]
    },
    {
      "cell_type": "code",
      "source": [
        "simple_interest(8,6,8)"
      ],
      "metadata": {
        "colab": {
          "base_uri": "https://localhost:8080/"
        },
        "id": "r_cfEfH9gHWi",
        "outputId": "b6d1c9b5-4acb-4beb-9e76-6a3ceee96c3c"
      },
      "execution_count": 4,
      "outputs": [
        {
          "output_type": "stream",
          "name": "stdout",
          "text": [
            "The principal is 8\n",
            "The time period is 6\n",
            "The rate of interest is 8\n",
            "The Simple Interest is 3.84\n"
          ]
        },
        {
          "output_type": "execute_result",
          "data": {
            "text/plain": [
              "3.84"
            ]
          },
          "metadata": {},
          "execution_count": 4
        }
      ]
    }
  ]
}