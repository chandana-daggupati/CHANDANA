{
  "nbformat": 4,
  "nbformat_minor": 0,
  "metadata": {
    "colab": {
      "provenance": [],
      "authorship_tag": "ABX9TyPeT6AFEs3UKl9bbZk2OQfX",
      "include_colab_link": true
    },
    "kernelspec": {
      "name": "python3",
      "display_name": "Python 3"
    },
    "language_info": {
      "name": "python"
    }
  },
  "cells": [
    {
      "cell_type": "markdown",
      "metadata": {
        "id": "view-in-github",
        "colab_type": "text"
      },
      "source": [
        "<a href=\"https://colab.research.google.com/github/chandana-daggupati/CHANDANA/blob/main/Classes_CSEB20116.ipynb\" target=\"_parent\"><img src=\"https://colab.research.google.com/assets/colab-badge.svg\" alt=\"Open In Colab\"/></a>"
      ]
    },
    {
      "cell_type": "code",
      "execution_count": null,
      "metadata": {
        "colab": {
          "base_uri": "https://localhost:8080/"
        },
        "id": "JJMAHcTSbDSl",
        "outputId": "1ddc2170-01b2-4e03-c956-a3ab16f4aaa9"
      },
      "outputs": [
        {
          "output_type": "stream",
          "name": "stdout",
          "text": [
            "Enter student id :116\n",
            "Enter name of the student :Chandana\n",
            "The data of s1 object : \n",
            "Chandana\n",
            "116\n",
            "Enter student class :CSEB\n",
            "The values after adding student calss :\n",
            "Student name : Chandana\n",
            "Student class: 116\n",
            "Student class: CSEB\n",
            "The values after DELETETION of student calss :\n",
            "Student name : Chandana\n",
            "Student class: 116\n"
          ]
        }
      ],
      "source": [
        "class Student:\n",
        "    def __init__(self ,student_id ,student_name):\n",
        "        self.student_id =student_id\n",
        "        self.student_name =student_name\n",
        "id =int(input(\"Enter student id :\"))\n",
        "name =input(\"Enter name of the student :\")\n",
        "s1 =Student(id ,name)\n",
        "print(\"The data of s1 object : \")\n",
        "print(getattr(s1 ,'student_name'))\n",
        "print(getattr(s1 ,'student_id'))\n",
        "sClass =(input(\"Enter student class :\"))\n",
        "s1.__setattr__(\"student_class\" ,sClass)\n",
        "print(\"The values after adding student calss :\")\n",
        "print(\"Student name :\" ,getattr(s1 ,'student_name'))\n",
        "print(\"Student class:\" ,getattr(s1 ,'student_id'))\n",
        "print(\"Student class:\" ,getattr(s1 ,'student_class'))\n",
        "del s1.student_class\n",
        "print(\"The values after DELETETION of student calss :\")\n",
        "print(\"Student name :\" ,getattr(s1 ,'student_name'))\n",
        "print(\"Student class:\" ,getattr(s1 ,'student_id'))"
      ]
    },
    {
      "cell_type": "code",
      "source": [
        "class Student:\n",
        "    def __init__(self ,student_id ,student_name):\n",
        "        self.student_id =student_id\n",
        "        self.student_name =student_name\n",
        "    def display(self):\n",
        "        print(\"Name      :\",self.student_name)\n",
        "        print(\"Student_id:\",self.student_id)\n",
        "        print(\"Student_class:\",self.student_class)\n",
        "id =int(input(\"Enter student id :\"))\n",
        "name =input(\"Enter name of the student :\")\n",
        "s1 =Student(id ,name)\n",
        "sClass =(input(\"Enter student class :\"))\n",
        "s1.__setattr__(\"student_class\" ,sClass)\n",
        "s1.display()"
      ],
      "metadata": {
        "colab": {
          "base_uri": "https://localhost:8080/"
        },
        "id": "gBroG8Jfb0x1",
        "outputId": "334a602a-6cd3-42d2-de38-30b406507bbe"
      },
      "execution_count": null,
      "outputs": [
        {
          "output_type": "stream",
          "name": "stdout",
          "text": [
            "Enter student id :116\n",
            "Enter name of the student :Chandana\n",
            "Enter student class :CSEB\n",
            "Name      : Chandana\n",
            "Student_id: 116\n",
            "Student_class: CSEB\n"
          ]
        }
      ]
    },
    {
      "cell_type": "code",
      "source": [
        "class Student:\n",
        "    def __init__(self ,student_id ,student_name):\n",
        "        self.student_id =student_id\n",
        "        self.student_name =student_name\n",
        "\n",
        "    def display(self):\n",
        "        print(\"Name      :\",self.student_name)\n",
        "        print(\"Student_id:\",self.student_id)\n",
        "        print(\"Student_class:\",self.student_class)\n",
        "id =int(input(\"Enter student id :\"))\n",
        "name =input(\"Enter name of the student :\")\n",
        "s1 =Student(id ,name)\n",
        "sClass =(input(\"Enter student class :\"))\n",
        "s1.__setattr__(\"student_class\" ,sClass)\n",
        "id =int(input(\"Enter student id :\"))\n",
        "name =input(\"Enter name of the student :\")\n",
        "s2 =Student(id ,name)\n",
        "sClass =(input(\"Enter student class :\"))\n",
        "s2.__setattr__(\"student_class\" ,sClass)\n",
        "s1.display()\n",
        "s2.display()"
      ],
      "metadata": {
        "colab": {
          "base_uri": "https://localhost:8080/"
        },
        "id": "HepxMXt6cC5k",
        "outputId": "172cab85-2953-4f40-cab3-34257b12f5bb"
      },
      "execution_count": null,
      "outputs": [
        {
          "output_type": "stream",
          "name": "stdout",
          "text": [
            "Enter student id :116\n",
            "Enter name of the student :Chandana\n",
            "Enter student class :CSEB\n",
            "Enter student id :343\n",
            "Enter name of the student :Akhi\n",
            "Enter student class :CSEB\n",
            "Name      : Chandana\n",
            "Student_id: 116\n",
            "Student_class: CSEB\n",
            "Name      : Akhi\n",
            "Student_id: 343\n",
            "Student_class: CSEB\n"
          ]
        }
      ]
    },
    {
      "cell_type": "code",
      "source": [
        "class valid:\n",
        "    def check(self,str):\n",
        "        a=0\n",
        "        for x in range(0,len(str),2):\n",
        "\n",
        "            if str[x]=='(':\n",
        "                 if str[x+1]==')':\n",
        "                    a+=1\n",
        "                    pass\n",
        "            elif str[x]=='{':\n",
        "                if str[x+1]=='}':\n",
        "\n",
        "                    a+=1\n",
        "            elif str[x]=='[':\n",
        "                if str[x+1]==']':\n",
        "\n",
        "                     a+=1\n",
        "            else:\n",
        "                print(\"Invalid\")\n",
        "        else:     \n",
        "            k=int(len(str)/2)\n",
        "\n",
        "            if  k>2:\n",
        "                if a==k:\n",
        "                    print(\"Valid\")\n",
        "                else:\n",
        "                    print(\"not valid\")\n",
        "            elif k==2:\n",
        "                if a==2:\n",
        "                 print(\"Valid\")\n",
        "                elif a==1:\n",
        "                    print(\"invalid\")\n",
        "            else:\n",
        "                if a==1:\n",
        "                    print(\"Valid\")\n",
        "                elif a==0:\n",
        "                    print(\"invalid\")\n",
        "while True:\n",
        "    str=input(\"Enter string :\")\n",
        "    v1=valid()\n",
        "    v1.check(str)\n",
        "    r=input(print(\"Do you want to continue : \"))\n",
        "    if(r==\"no\"):\n",
        "      break"
      ],
      "metadata": {
        "colab": {
          "base_uri": "https://localhost:8080/"
        },
        "id": "HL4jNhjRcvQp",
        "outputId": "b4738535-01c5-4b01-9380-a45f0321a142"
      },
      "execution_count": null,
      "outputs": [
        {
          "name": "stdout",
          "output_type": "stream",
          "text": [
            "Enter string :Chandana\n",
            "Invalid\n",
            "Invalid\n",
            "Invalid\n",
            "Invalid\n",
            "not valid\n",
            "Do you want to continue : \n",
            "no\n"
          ]
        }
      ]
    },
    {
      "cell_type": "code",
      "source": [
        "class check:\n",
        "    def sub_sets(self, sset):\n",
        "        return self.subsetsRecur([], sorted(sset))\n",
        "\n",
        "    def subsetsRecur(self, current, sset):\n",
        "        if sset:\n",
        "            return self.subsetsRecur(current, sset[1:]) + self.subsetsRecur(current + [sset[0]], sset[1:])\n",
        "        return [current]\n",
        "print(check().sub_sets([4, 5, 6]))"
      ],
      "metadata": {
        "colab": {
          "base_uri": "https://localhost:8080/"
        },
        "id": "-N2uJR4HdA2A",
        "outputId": "9548eebd-55d2-48e4-fa5c-a5cf4ac4ccb8"
      },
      "execution_count": null,
      "outputs": [
        {
          "output_type": "stream",
          "name": "stdout",
          "text": [
            "[[], [6], [5], [5, 6], [4], [4, 6], [4, 5], [4, 5, 6]]\n"
          ]
        }
      ]
    },
    {
      "cell_type": "code",
      "source": [
        "class check:\n",
        "    name=\"\"\n",
        "    def get_string(self,name):\n",
        "        self.name=name\n",
        "    def print_string(self):\n",
        "        a=self.name.upper()\n",
        "        return a\n",
        "obj=check()\n",
        "while True:\n",
        "    str=input(\"Enter name :\")\n",
        "    obj.get_string(str)\n",
        "    print(obj.print_string())\n",
        "    k=input(print(\"Do you want to continue : \"))\n",
        "    if(k==\"no\"):\n",
        "      break"
      ],
      "metadata": {
        "colab": {
          "base_uri": "https://localhost:8080/"
        },
        "id": "bSex70z_dJ-J",
        "outputId": "3ddb5997-73a2-427f-eb97-565510ecfcbb"
      },
      "execution_count": null,
      "outputs": [
        {
          "name": "stdout",
          "output_type": "stream",
          "text": [
            "Enter name :Chandana\n",
            "CHANDANA\n",
            "Do you want to continue : \n",
            "no\n"
          ]
        }
      ]
    },
    {
      "cell_type": "code",
      "source": [
        "class Rectangle:\n",
        "    length=0.0\n",
        "    breath=0.0\n",
        "\n",
        "    def __init__(self,l,b):\n",
        "        self.length=l\n",
        "        self.breath=b\n",
        "\n",
        "    def area(self):\n",
        "        return self.length*self.breath\n",
        "l=float(input(\"Enter length:\"))\n",
        "b=float(input(\"Enter breath:\"))\n",
        "obj=Rectangle(l,b)\n",
        "print(\"LENGTH:\",getattr(obj,\"length\"))\n",
        "print(\"BREATH:\",getattr(obj,\"breath\"))\n",
        "print(\"AREA :\",obj.area())"
      ],
      "metadata": {
        "colab": {
          "base_uri": "https://localhost:8080/"
        },
        "id": "_rr22Wg1dY4x",
        "outputId": "29adba12-ae4b-4375-de59-1da62898a37a"
      },
      "execution_count": null,
      "outputs": [
        {
          "output_type": "stream",
          "name": "stdout",
          "text": [
            "Enter length:123456\n",
            "Enter breath:5678\n",
            "LENGTH: 123456.0\n",
            "BREATH: 5678.0\n",
            "AREA : 700983168.0\n"
          ]
        }
      ]
    },
    {
      "cell_type": "code",
      "source": [
        "class purchase:\n",
        "    def __init__(self,*a):\n",
        "        self.a=list((a))\n",
        "        self.l=len(self.a)\n",
        "        print(\"Total number of arguments : \",self.l)\n",
        "p=purchase(14.5,2003,74,58,4,96)\n",
        "t=purchase(1,2,3,4,5)"
      ],
      "metadata": {
        "colab": {
          "base_uri": "https://localhost:8080/"
        },
        "id": "9OUEUsd_dm_g",
        "outputId": "7b04173d-02fe-4ef4-e983-56bf8bc4f62a"
      },
      "execution_count": null,
      "outputs": [
        {
          "output_type": "stream",
          "name": "stdout",
          "text": [
            "Total number of arguments :  6\n",
            "Total number of arguments :  5\n"
          ]
        }
      ]
    },
    {
      "cell_type": "code",
      "source": [
        "class abc:\n",
        "    a=0.0\n",
        "    b=0.0\n",
        "    c=0.0\n",
        "    def __init__(self,a,b,c):\n",
        "        self.a=a\n",
        "        self.b=b\n",
        "        self.c=c\n",
        "    def __mul__(self, other):\n",
        "        return self.a*other.a,self.b*other.b,self.c*other.c\n",
        "a=abc(1,2,3)\n",
        "b=abc(4,5,6)\n",
        "c=list(a*b)\n",
        "print(type(c))\n",
        "print(c)"
      ],
      "metadata": {
        "colab": {
          "base_uri": "https://localhost:8080/"
        },
        "id": "ebNgBHu5dvro",
        "outputId": "776d039b-732b-4972-df11-0f2b42a84aa5"
      },
      "execution_count": null,
      "outputs": [
        {
          "output_type": "stream",
          "name": "stdout",
          "text": [
            "<class 'list'>\n",
            "[4, 10, 18]\n"
          ]
        }
      ]
    },
    {
      "cell_type": "code",
      "source": [
        "class calc:\n",
        "    a=0.0\n",
        "    b=0.0\n",
        "    def __init__(self,a,b):\n",
        "        self.a=a\n",
        "        self.b=b\n",
        "    def __add__(self, other):\n",
        "        return self.a+other.a,self.b+other.b\n",
        "    def __mul__(self, other):\n",
        "        return self.a*other.a,self.b*other.b\n",
        "    def __sub__(self, other):\n",
        "        return self.a - other.a, self.b - other.b\n",
        "    def __truediv__(self, other):\n",
        "        return self.a /other.a, self.b / other.b\n",
        "    def __mod__(self, other):\n",
        "        return self.a % other.a, self.b % other.b\n",
        "while True:\n",
        "    a1 = int(input(\"Enter a1 :\"))\n",
        "    a2 = int(input(\"Enter a2 :\"))\n",
        "    b1 = int(input(\"Enter b1:\"))\n",
        "    b2 = int(input(\"Enter b2:\"))\n",
        "    p = calc(a1, a2)\n",
        "    q = calc(b1, b2)\n",
        "    print(\"Choose :\\n1.ADD\\n2.Sub\\n3.Mul\\n4.Div\\n5.Mod\")\n",
        "    ch=int(input(\"Enter choice :\"))\n",
        "    if ch==1:\n",
        "        print(p+q)\n",
        "    elif ch==2:\n",
        "        print(p-q)\n",
        "    elif ch==3:\n",
        "        print(p*q)\n",
        "    elif ch==4:\n",
        "        print(p/q)\n",
        "    elif ch==5:\n",
        "        print(p%q)\n",
        "    else:\n",
        "        print(\"Wrong choice\")\n",
        "    k=input(print(\"Do you want to continue : \"))\n",
        "    if(k==\"no\"):\n",
        "      break"
      ],
      "metadata": {
        "colab": {
          "base_uri": "https://localhost:8080/"
        },
        "id": "rr9LGhSTd8GH",
        "outputId": "e72bb74a-c0a9-4e6e-d73d-5c5f4cbcb9c6"
      },
      "execution_count": null,
      "outputs": [
        {
          "name": "stdout",
          "output_type": "stream",
          "text": [
            "Enter a1 :100\n",
            "Enter a2 :50\n",
            "Enter b1:200\n",
            "Enter b2:150\n",
            "Choose :\n",
            "1.ADD\n",
            "2.Sub\n",
            "3.Mul\n",
            "4.Div\n",
            "5.Mod\n",
            "Enter choice :3\n",
            "(20000, 7500)\n",
            "Do you want to continue : \n",
            "no\n"
          ]
        }
      ]
    }
  ]
}