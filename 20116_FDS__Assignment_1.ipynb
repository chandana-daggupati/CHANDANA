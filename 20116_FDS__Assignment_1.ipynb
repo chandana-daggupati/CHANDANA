{
  "nbformat": 4,
  "nbformat_minor": 0,
  "metadata": {
    "colab": {
      "provenance": [],
      "authorship_tag": "ABX9TyNR8X/eRYAM1wji0khJd++5",
      "include_colab_link": true
    },
    "kernelspec": {
      "name": "python3",
      "display_name": "Python 3"
    },
    "language_info": {
      "name": "python"
    }
  },
  "cells": [
    {
      "cell_type": "markdown",
      "metadata": {
        "id": "view-in-github",
        "colab_type": "text"
      },
      "source": [
        "<a href=\"https://colab.research.google.com/github/chandana-daggupati/CHANDANA/blob/main/20116_FDS__Assignment_1.ipynb\" target=\"_parent\"><img src=\"https://colab.research.google.com/assets/colab-badge.svg\" alt=\"Open In Colab\"/></a>"
      ]
    },
    {
      "cell_type": "code",
      "execution_count": 1,
      "metadata": {
        "colab": {
          "base_uri": "https://localhost:8080/"
        },
        "id": "IJFbxp5PsuhX",
        "outputId": "73f426cb-f691-4a39-c93d-441650500e6f"
      },
      "outputs": [
        {
          "output_type": "stream",
          "name": "stdout",
          "text": [
            "(11, 'aman', '222', 22)\n"
          ]
        }
      ],
      "source": [
        "#Q1\n",
        "sets={\"aman\",\"222\",11,22}\n",
        "t = tuple(sets)\n",
        "print(t)"
      ]
    },
    {
      "cell_type": "code",
      "source": [
        "#Q2\n",
        "dict = {\"Rollno\":\"CB.EN.U4CSE20116\", \"First Name\": \"Chandana\", \"Last Name\": \"Daggupati\", \"DOB\": \"10/01/2003\"}\n",
        "print(dict)\n",
        "x = dict.values()\n",
        "print(x)\n",
        "y = dict.keys()\n",
        "print(y)"
      ],
      "metadata": {
        "colab": {
          "base_uri": "https://localhost:8080/"
        },
        "id": "hhySarg0t366",
        "outputId": "6fb6af89-8bff-49c2-f228-467754386278"
      },
      "execution_count": 6,
      "outputs": [
        {
          "output_type": "stream",
          "name": "stdout",
          "text": [
            "{'Rollno': 'CB.EN.U4CSE20116', 'First Name': 'Chandana', 'Last Name': 'Daggupati', 'DOB': '10/01/2003'}\n",
            "dict_values(['CB.EN.U4CSE20116', 'Chandana', 'Daggupati', '10/01/2003'])\n",
            "dict_keys(['Rollno', 'First Name', 'Last Name', 'DOB'])\n"
          ]
        }
      ]
    },
    {
      "cell_type": "code",
      "source": [
        "#Q3\n",
        "import numpy as np\n",
        "np.random.seed(2)\n",
        "r = np.random.rand(4,6)\n",
        "print(r)"
      ],
      "metadata": {
        "colab": {
          "base_uri": "https://localhost:8080/"
        },
        "id": "V9NiQ_4Ovx9z",
        "outputId": "02ad8431-5e65-4a9e-cf42-6ad994929031"
      },
      "execution_count": 7,
      "outputs": [
        {
          "output_type": "stream",
          "name": "stdout",
          "text": [
            "[[0.4359949  0.02592623 0.54966248 0.43532239 0.4203678  0.33033482]\n",
            " [0.20464863 0.61927097 0.29965467 0.26682728 0.62113383 0.52914209]\n",
            " [0.13457995 0.51357812 0.18443987 0.78533515 0.85397529 0.49423684]\n",
            " [0.84656149 0.07964548 0.50524609 0.0652865  0.42812233 0.09653092]]\n"
          ]
        }
      ]
    },
    {
      "cell_type": "code",
      "source": [
        "#Q4\n",
        "import random\n",
        "n = random.uniform(0.0,1.0)\n",
        "print(n)\n",
        "print(abs(-1234))"
      ],
      "metadata": {
        "colab": {
          "base_uri": "https://localhost:8080/"
        },
        "id": "HhJm2T9zwIXI",
        "outputId": "ad9df9d2-a0b2-48c8-d6f2-2ed74740006e"
      },
      "execution_count": 9,
      "outputs": [
        {
          "output_type": "stream",
          "name": "stdout",
          "text": [
            "0.11133479544059399\n",
            "1234\n"
          ]
        }
      ]
    },
    {
      "cell_type": "code",
      "source": [
        "#Q5\n",
        "n = random.randint(20,90)\n",
        "print(n)"
      ],
      "metadata": {
        "colab": {
          "base_uri": "https://localhost:8080/"
        },
        "id": "C29MxE_pwayl",
        "outputId": "39083462-35c6-4ffd-8271-f5ede1d3ef04"
      },
      "execution_count": 12,
      "outputs": [
        {
          "output_type": "stream",
          "name": "stdout",
          "text": [
            "47\n"
          ]
        }
      ]
    },
    {
      "cell_type": "code",
      "source": [
        "#Q6\n",
        "list1 = [11,12,13,14,15]\n",
        "print(random.sample(list1, 3))\n",
        "random.shuffle(list1)\n",
        "print(list1)\n",
        "print(np.random.choice(list1,1))"
      ],
      "metadata": {
        "colab": {
          "base_uri": "https://localhost:8080/"
        },
        "id": "11Hp8fsIwsms",
        "outputId": "059d81d4-5ce5-49ec-c793-15be23dd04c0"
      },
      "execution_count": 13,
      "outputs": [
        {
          "output_type": "stream",
          "name": "stdout",
          "text": [
            "[11, 15, 14]\n",
            "[14, 11, 12, 13, 15]\n",
            "[14]\n"
          ]
        }
      ]
    },
    {
      "cell_type": "code",
      "source": [
        "#Q7\n",
        "myfile = open(\"King.txt\",\"w\")\n",
        "str1 = \"The King is Dead, Long Live The King\"\n",
        "myfile.write(str1)\n",
        "myfile.close()\n",
        "myfile = open(\"King.txt\",\"r\")\n",
        "print(myfile.read())\n",
        "myfile.close()"
      ],
      "metadata": {
        "colab": {
          "base_uri": "https://localhost:8080/"
        },
        "id": "b5S_v4ohxegJ",
        "outputId": "edea1793-058a-4a89-e54d-63e2fbf80550"
      },
      "execution_count": 14,
      "outputs": [
        {
          "output_type": "stream",
          "name": "stdout",
          "text": [
            "The King is Dead, Long Live The King\n"
          ]
        }
      ]
    },
    {
      "cell_type": "code",
      "source": [
        "#Q8\n",
        "def my_function():\n",
        "  #if_else\n",
        "  min_age = 18\n",
        "  your_age = 19\n",
        "  if your_age>min_age:\n",
        "    print(\"You are above 18!!\")\n",
        "    print(\"You are eligible to vote :)\")\n",
        "  else:\n",
        "    print(\"You are under 18!!!\")\n",
        "    print(\"You are not eligible to vote :(\")\n",
        "  print(\"----------------------------------------------------------------\")\n",
        "  #if_elif\n",
        "  a = 33\n",
        "  b = 33\n",
        "  if b>a:\n",
        "    print(\"b is greater than a\")\n",
        "  elif a==b:\n",
        "    print(\"a and b are equal\")\n",
        "  print(\"-----------------------------------------------------------------\")\n",
        "  #while\n",
        "  i = 1\n",
        "  while i<6:\n",
        "    print(i)\n",
        "    i += 1\n",
        "  print(\"------------------------------------------------------------------\")\n",
        "  #for loop\n",
        "  for x in \"apple\":\n",
        "    print(x)\n",
        "  print(\"-------------------------------------------------------------------\")\n",
        "  \n",
        "   #break_statement\n",
        "  i=1\n",
        "  while i<6:\n",
        "     print(i)\n",
        "     if i==3:\n",
        "       break\n",
        "     i += 1\n",
        "  print(\"--------------------------------------------------------------------\")\n",
        "    #continue_statement\n",
        "  i = 0\n",
        "  while i<6:\n",
        "    i += 1\n",
        "    if i==3:\n",
        "      continue\n",
        "    print(i)\n",
        "\n",
        "\n",
        "  \n",
        "\n",
        "  \n",
        "\n",
        "my_function()\n"
      ],
      "metadata": {
        "colab": {
          "base_uri": "https://localhost:8080/"
        },
        "id": "zD4urAAGyR8-",
        "outputId": "1af8d950-0f10-4e58-c716-739b66b47f54"
      },
      "execution_count": 23,
      "outputs": [
        {
          "output_type": "stream",
          "name": "stdout",
          "text": [
            "You are above 18!!\n",
            "You are eligible to vote :)\n",
            "----------------------------------------------------------------\n",
            "a and b are equal\n",
            "-----------------------------------------------------------------\n",
            "1\n",
            "2\n",
            "3\n",
            "4\n",
            "5\n",
            "------------------------------------------------------------------\n",
            "a\n",
            "p\n",
            "p\n",
            "l\n",
            "e\n",
            "-------------------------------------------------------------------\n",
            "1\n",
            "2\n",
            "3\n",
            "--------------------------------------------------------------------\n",
            "1\n",
            "2\n",
            "4\n",
            "5\n",
            "6\n"
          ]
        }
      ]
    },
    {
      "cell_type": "code",
      "source": [
        "#Q9\n",
        "str = \"The King is Dead, Long Live The King\"\n",
        "print(str)\n",
        "print(str[0])\n",
        "print(str[2:6])\n",
        "print(str[2:])\n",
        "print(str.split())"
      ],
      "metadata": {
        "colab": {
          "base_uri": "https://localhost:8080/"
        },
        "id": "1UVkcVpc28gt",
        "outputId": "a3b1bc45-08df-42c3-f624-cef25243aa1f"
      },
      "execution_count": 24,
      "outputs": [
        {
          "output_type": "stream",
          "name": "stdout",
          "text": [
            "The King is Dead, Long Live The King\n",
            "T\n",
            "e Ki\n",
            "e King is Dead, Long Live The King\n",
            "['The', 'King', 'is', 'Dead,', 'Long', 'Live', 'The', 'King']\n"
          ]
        }
      ]
    },
    {
      "cell_type": "code",
      "source": [
        "#Q10\n",
        "arr = np.array([1,4,5,8])\n",
        "print(arr[0:1],arr[1:2])"
      ],
      "metadata": {
        "colab": {
          "base_uri": "https://localhost:8080/"
        },
        "id": "A7q9tFFc3XtU",
        "outputId": "29c74baa-08bb-4774-e6ce-298105ee5930"
      },
      "execution_count": 25,
      "outputs": [
        {
          "output_type": "stream",
          "name": "stdout",
          "text": [
            "[1] [4]\n"
          ]
        }
      ]
    },
    {
      "cell_type": "code",
      "source": [
        "#Q11\n",
        "arr = [[1,2,3],[4,5,6]]\n",
        "print(arr)"
      ],
      "metadata": {
        "colab": {
          "base_uri": "https://localhost:8080/"
        },
        "id": "LZc2e4Es34e0",
        "outputId": "3c021325-6be9-49ab-b340-1dcbb534a127"
      },
      "execution_count": 26,
      "outputs": [
        {
          "output_type": "stream",
          "name": "stdout",
          "text": [
            "[[1, 2, 3], [4, 5, 6]]\n"
          ]
        }
      ]
    },
    {
      "cell_type": "code",
      "source": [
        "#Q12\n",
        "arr = [[1,2,3],[4,5,6]]\n",
        "print(arr)\n",
        "print(arr[1:])\n",
        "for i in arr:\n",
        "  print(i[1:])\n",
        "print(len(arr))"
      ],
      "metadata": {
        "colab": {
          "base_uri": "https://localhost:8080/"
        },
        "id": "ri9mKuTK4Hxi",
        "outputId": "acbeb540-368b-4447-82cc-bef81edd5a6a"
      },
      "execution_count": 27,
      "outputs": [
        {
          "output_type": "stream",
          "name": "stdout",
          "text": [
            "[[1, 2, 3], [4, 5, 6]]\n",
            "[[4, 5, 6]]\n",
            "[2, 3]\n",
            "[5, 6]\n",
            "2\n"
          ]
        }
      ]
    },
    {
      "cell_type": "code",
      "source": [
        "#Q13\n",
        "x=np.array([1,2,3,4,5,6,7,8,9,10])\n",
        "x.shape=(2,5)\n",
        "print(x)"
      ],
      "metadata": {
        "colab": {
          "base_uri": "https://localhost:8080/"
        },
        "id": "aviZB7hp5RZc",
        "outputId": "c17b58de-d6eb-45d3-ee5f-ac74df6aade7"
      },
      "execution_count": 28,
      "outputs": [
        {
          "output_type": "stream",
          "name": "stdout",
          "text": [
            "[[ 1  2  3  4  5]\n",
            " [ 6  7  8  9 10]]\n"
          ]
        }
      ]
    },
    {
      "cell_type": "code",
      "source": [
        "#Q14\n",
        "list =[1,2,3]\n",
        "x=np.array(list)\n",
        "print(x)"
      ],
      "metadata": {
        "colab": {
          "base_uri": "https://localhost:8080/"
        },
        "id": "dVDllfwd6dsd",
        "outputId": "fecf6f07-0c8e-4071-cad9-c1092e1a844f"
      },
      "execution_count": 29,
      "outputs": [
        {
          "output_type": "stream",
          "name": "stdout",
          "text": [
            "[1 2 3]\n"
          ]
        }
      ]
    },
    {
      "cell_type": "code",
      "source": [
        "#Q15\n",
        "arr = np.array([1,2,3])\n",
        "arr.fill(9)\n",
        "print(arr)"
      ],
      "metadata": {
        "colab": {
          "base_uri": "https://localhost:8080/"
        },
        "id": "bAvNa4i96p29",
        "outputId": "b51b792c-8112-43aa-f989-d3232726ddfe"
      },
      "execution_count": 30,
      "outputs": [
        {
          "output_type": "stream",
          "name": "stdout",
          "text": [
            "[9 9 9]\n"
          ]
        }
      ]
    },
    {
      "cell_type": "code",
      "source": [
        "#Q16\n",
        "arr = np.array([2,4,5])\n",
        "print(\"Sum of all elements in array:\")\n",
        "print(np.sum(arr))"
      ],
      "metadata": {
        "colab": {
          "base_uri": "https://localhost:8080/"
        },
        "id": "POiRzuEb62TU",
        "outputId": "2c79cfcd-4fa7-49f3-dfab-162e72334465"
      },
      "execution_count": 31,
      "outputs": [
        {
          "output_type": "stream",
          "name": "stdout",
          "text": [
            "Sum of all elements in array:\n",
            "11\n"
          ]
        }
      ]
    },
    {
      "cell_type": "code",
      "source": [
        "#Q17\n",
        "arr = np.array([2,4,5])\n",
        "print(\"Product of all the elements in array:\")\n",
        "print(np.prod(arr))\n"
      ],
      "metadata": {
        "colab": {
          "base_uri": "https://localhost:8080/"
        },
        "id": "DsxKqmu_7L4L",
        "outputId": "5067214d-0fdd-417f-9093-c70e27e3f672"
      },
      "execution_count": 32,
      "outputs": [
        {
          "output_type": "stream",
          "name": "stdout",
          "text": [
            "Product of all the elements in array:\n",
            "40\n"
          ]
        }
      ]
    },
    {
      "cell_type": "code",
      "source": [
        "#Q18\n",
        "arr = np.array([2,1,9,1,2,22,1,1,4,55,6,2,56])\n",
        "print(np.mean(arr),np.var(arr),np.amax(arr),np.amin(arr),np.argmin(arr),np.argmax(arr),np.median(arr),np.std(arr))"
      ],
      "metadata": {
        "colab": {
          "base_uri": "https://localhost:8080/"
        },
        "id": "0KdXBPxt7ZMp",
        "outputId": "2def876d-1b66-42a3-f63c-b2351a931af3"
      },
      "execution_count": 33,
      "outputs": [
        {
          "output_type": "stream",
          "name": "stdout",
          "text": [
            "12.461538461538462 367.32544378698225 56 1 1 12 2.0 19.165736192147232\n"
          ]
        }
      ]
    },
    {
      "cell_type": "code",
      "source": [
        "#Q19\n",
        "arr = np.array([1,1,4,5,5,5,7])\n",
        "print(np.unique(arr))"
      ],
      "metadata": {
        "colab": {
          "base_uri": "https://localhost:8080/"
        },
        "id": "K19Y6kgD8BN-",
        "outputId": "2e84cfe6-d8fb-4793-f7d1-d1e86510e844"
      },
      "execution_count": 34,
      "outputs": [
        {
          "output_type": "stream",
          "name": "stdout",
          "text": [
            "[1 4 5 7]\n"
          ]
        }
      ]
    },
    {
      "cell_type": "code",
      "source": [
        "#Q20\n",
        "arr1 = np.array([1,2,3])\n",
        "arr2 = np.array([0,1,1])\n",
        "print(np.dot(arr1,arr2))\n"
      ],
      "metadata": {
        "colab": {
          "base_uri": "https://localhost:8080/"
        },
        "id": "bWg78HUO8NvT",
        "outputId": "1852882e-aaf7-4526-d50e-7edd4378b5c2"
      },
      "execution_count": 35,
      "outputs": [
        {
          "output_type": "stream",
          "name": "stdout",
          "text": [
            "5\n"
          ]
        }
      ]
    },
    {
      "cell_type": "code",
      "source": [
        "#Q21\n",
        "mat = np.array([[2,2,4],\n",
        "               [1,3,5],\n",
        "               [2,3,4]])\n",
        "evalues, evectors = np.linalg.eig(mat)\n",
        "print(\"Eigen Values: \", evalues)\n",
        "print(\"Eigen Vectors: \", evectors)"
      ],
      "metadata": {
        "colab": {
          "base_uri": "https://localhost:8080/"
        },
        "id": "Ftm5U1L08m2f",
        "outputId": "c36628c3-438e-44d0-cd93-e94ddfedfa04"
      },
      "execution_count": 38,
      "outputs": [
        {
          "output_type": "stream",
          "name": "stdout",
          "text": [
            "Eigen Values:  [ 8.80916362  0.92620912 -0.73537273]\n",
            "Eigen Vectors:  [[-0.52799324 -0.77557092 -0.36272811]\n",
            " [-0.604391    0.62277013 -0.7103262 ]\n",
            " [-0.59660259 -0.10318482  0.60321224]]\n"
          ]
        }
      ]
    },
    {
      "cell_type": "code",
      "source": [
        "#Q22\n",
        "x_sim = np.array([11,22,11,31])\n",
        "y_sim = np.array([25,33,31,28])\n",
        "my_rho = np.corrcoef(x_sim, y_sim)\n",
        "\n",
        "print(my_rho)"
      ],
      "metadata": {
        "colab": {
          "base_uri": "https://localhost:8080/"
        },
        "id": "ldAubaEL9RwJ",
        "outputId": "8385fcd2-8f93-4805-edbf-e0fae30a3eb6"
      },
      "execution_count": 39,
      "outputs": [
        {
          "output_type": "stream",
          "name": "stdout",
          "text": [
            "[[1.         0.15997968]\n",
            " [0.15997968 1.        ]]\n"
          ]
        }
      ]
    }
  ]
}